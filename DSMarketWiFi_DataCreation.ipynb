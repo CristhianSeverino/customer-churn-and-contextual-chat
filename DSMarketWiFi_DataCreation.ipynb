{
  "nbformat": 4,
  "nbformat_minor": 0,
  "metadata": {
    "colab": {
      "provenance": [],
      "authorship_tag": "ABX9TyOFhUSxayvhHCJk4qhP4Swb",
      "include_colab_link": true
    },
    "kernelspec": {
      "name": "python3",
      "display_name": "Python 3"
    },
    "language_info": {
      "name": "python"
    }
  },
  "cells": [
    {
      "cell_type": "markdown",
      "metadata": {
        "id": "view-in-github",
        "colab_type": "text"
      },
      "source": [
        "<a href=\"https://colab.research.google.com/github/CristhianSeverino/customer-churn-and-contextual-chat/blob/staging/DSMarketWiFi_DataCreation.ipynb\" target=\"_parent\"><img src=\"https://colab.research.google.com/assets/colab-badge.svg\" alt=\"Open In Colab\"/></a>"
      ]
    },
    {
      "cell_type": "markdown",
      "source": [
        "# **Customer Churn and Contextual Chat C4**\n",
        "\n",
        "> Este **Notebook** es una creación de: **Cristhian Calle Severino**.\n",
        "\n",
        "---\n",
        "\n",
        "* **GitHub**: https://github.com/CristhianSeverino\n",
        "* **LinkedIn**: https://www.linkedin.com/in/cristhianandrescalleseverino/\n",
        "\n",
        "---\n",
        "\n",
        "Este proyecto **emula un Data Product de Machine Learning (ML) con despliegue en AWS**. Se inspira en la arquitectura **Arana**.\n",
        "\n",
        "### **Incluye:**\n",
        "\n",
        "* **Creación de Datos Sintéticos**: Estos datos simulan usuarios de **MallPlaza**, un nombre genérico para un supuesto ficticio, dado que grandes centros comerciales homónimos existen en ciudades de América (como Santiago de Chile y Manizales, donde resido). Esta creación se basa en un supuesto de **Ingeniería y Arquitectura de Datos** que se detalla en el **Road Map**.\n",
        "\n",
        "---\n",
        "\n",
        "## **Módulos del Proyecto**\n",
        "\n",
        "El proyecto está estructurado en los siguientes **Módulos**:\n",
        "\n",
        "> * **Módulo 1 - Creación de Datos Sintéticos**: Emula un proceso **ELT** (Extracción, Carga y Transformación) de ingesta, carga y posterior transformación de datos. El resultado es un *dataset* limpio, listo para el entrenamiento de modelos de ML.\n",
        "> * **Módulo 2 - EDA (*Exploratory Data Analysis*)**: Análisis de datos exploratorio para la identificación de *insights* previos al ML. Incluye la búsqueda de características de enriquecimiento y el desarrollo de **Feature Engineering**.\n",
        "> * **Módulo 3 - Entrenamiento y Evaluación del Algoritmo**: Desarrollo del modelo, métricas de ajuste, evaluación de precisión y **Fine Tuning**.\n",
        "> * **Módulo 4 - Despliegue en AWS**: Implementación y prueba del despliegue en la nube.\n",
        "\n",
        "---\n",
        "\n",
        "## **Prerrequisitos y Recomendaciones**\n",
        "\n",
        "**Nota**: Para este proyecto se emplea **AWS como *cloud platform***.\n",
        "\n",
        "Es **indispensable** poseer conocimientos en las siguientes tecnologías para comprender a cabalidad los aspectos técnicos:\n",
        "\n",
        "* **Lenguajes y Bases de Datos**: Python, SQL.\n",
        "* **Big Data y ML**: PySpark, Keras, Scikit-learn, PyTorch.\n",
        "* **Cloud y Herramientas MLOps**: AWS.\n",
        "* **IA y Desarrollo de Aplicaciones**: LangChain, RAG, Streamlit, Gradio.\n",
        "\n",
        "Para una comprensión general del proyecto, **recomiendo encarecidamente la lectura del Road Map** y una revisión general de la documentación del código. 🦾\n",
        "\n",
        "> ¡Que disfrutes explorando este proyecto! Exitosa semana. 🐱‍🏍"
      ],
      "metadata": {
        "id": "ueJCmgvOW25a"
      }
    },
    {
      "cell_type": "markdown",
      "source": [
        "# **Instalacción E Importación de Librerias**📚"
      ],
      "metadata": {
        "id": "mZNS_yYFp8VJ"
      }
    },
    {
      "cell_type": "code",
      "source": [
        "!pip install boto3\n",
        "!pip install awscli\n",
        "print(\"=\"*150)\n",
        "print(\" \"*50+\"Librerias AWS instaladas\")\n",
        "print(\"=\"*150)"
      ],
      "metadata": {
        "colab": {
          "base_uri": "https://localhost:8080/"
        },
        "id": "v2vYfB9cr2n2",
        "outputId": "ade1cc45-e1a5-4fb5-e12f-b3cd019a505a"
      },
      "execution_count": 6,
      "outputs": [
        {
          "output_type": "stream",
          "name": "stdout",
          "text": [
            "Requirement already satisfied: boto3 in /usr/local/lib/python3.12/dist-packages (1.40.40)\n",
            "Requirement already satisfied: botocore<1.41.0,>=1.40.40 in /usr/local/lib/python3.12/dist-packages (from boto3) (1.40.40)\n",
            "Requirement already satisfied: jmespath<2.0.0,>=0.7.1 in /usr/local/lib/python3.12/dist-packages (from boto3) (1.0.1)\n",
            "Requirement already satisfied: s3transfer<0.15.0,>=0.14.0 in /usr/local/lib/python3.12/dist-packages (from boto3) (0.14.0)\n",
            "Requirement already satisfied: python-dateutil<3.0.0,>=2.1 in /usr/local/lib/python3.12/dist-packages (from botocore<1.41.0,>=1.40.40->boto3) (2.9.0.post0)\n",
            "Requirement already satisfied: urllib3!=2.2.0,<3,>=1.25.4 in /usr/local/lib/python3.12/dist-packages (from botocore<1.41.0,>=1.40.40->boto3) (2.5.0)\n",
            "Requirement already satisfied: six>=1.5 in /usr/local/lib/python3.12/dist-packages (from python-dateutil<3.0.0,>=2.1->botocore<1.41.0,>=1.40.40->boto3) (1.17.0)\n",
            "Requirement already satisfied: awscli in /usr/local/lib/python3.12/dist-packages (1.42.40)\n",
            "Requirement already satisfied: botocore==1.40.40 in /usr/local/lib/python3.12/dist-packages (from awscli) (1.40.40)\n",
            "Requirement already satisfied: docutils<=0.19,>=0.18.1 in /usr/local/lib/python3.12/dist-packages (from awscli) (0.19)\n",
            "Requirement already satisfied: s3transfer<0.15.0,>=0.14.0 in /usr/local/lib/python3.12/dist-packages (from awscli) (0.14.0)\n",
            "Requirement already satisfied: PyYAML<6.1,>=3.10 in /usr/local/lib/python3.12/dist-packages (from awscli) (6.0.2)\n",
            "Requirement already satisfied: colorama<0.4.7,>=0.2.5 in /usr/local/lib/python3.12/dist-packages (from awscli) (0.4.6)\n",
            "Requirement already satisfied: rsa<4.8,>=3.1.2 in /usr/local/lib/python3.12/dist-packages (from awscli) (4.7.2)\n",
            "Requirement already satisfied: jmespath<2.0.0,>=0.7.1 in /usr/local/lib/python3.12/dist-packages (from botocore==1.40.40->awscli) (1.0.1)\n",
            "Requirement already satisfied: python-dateutil<3.0.0,>=2.1 in /usr/local/lib/python3.12/dist-packages (from botocore==1.40.40->awscli) (2.9.0.post0)\n",
            "Requirement already satisfied: urllib3!=2.2.0,<3,>=1.25.4 in /usr/local/lib/python3.12/dist-packages (from botocore==1.40.40->awscli) (2.5.0)\n",
            "Requirement already satisfied: pyasn1>=0.1.3 in /usr/local/lib/python3.12/dist-packages (from rsa<4.8,>=3.1.2->awscli) (0.6.1)\n",
            "Requirement already satisfied: six>=1.5 in /usr/local/lib/python3.12/dist-packages (from python-dateutil<3.0.0,>=2.1->botocore==1.40.40->awscli) (1.17.0)\n",
            "======================================================================================================================================================\n",
            "                                                  Librerias AWS instaladas\n",
            "======================================================================================================================================================\n"
          ]
        }
      ]
    },
    {
      "cell_type": "code",
      "execution_count": 5,
      "metadata": {
        "colab": {
          "base_uri": "https://localhost:8080/"
        },
        "id": "TGAFVoZSJzN4",
        "outputId": "3956a99a-e033-4487-829a-b468fcd37c11"
      },
      "outputs": [
        {
          "output_type": "stream",
          "name": "stdout",
          "text": [
            "Requirement already satisfied: faker in /usr/local/lib/python3.12/dist-packages (37.8.0)\n",
            "Requirement already satisfied: tzdata in /usr/local/lib/python3.12/dist-packages (from faker) (2025.2)\n",
            "======================================================================================================================================================\n",
            "                                                  Librerias instaladas\n",
            "======================================================================================================================================================\n"
          ]
        }
      ],
      "source": [
        "!pip install faker\n",
        "print(\"=\"*150)\n",
        "print(\" \"*50+\"Librerias instaladas\")\n",
        "print(\"=\"*150)\n"
      ]
    },
    {
      "cell_type": "code",
      "source": [
        "import os\n",
        "from google.colab import userdata\n",
        "from faker import Faker\n",
        "import pandas as pd\n",
        "from datetime import datetime\n",
        "import random\n",
        "import numpy as np\n",
        "import boto3\n",
        "print(\"=\"*150)\n",
        "print(\" \"*50+\"Librerias Importadas con Exito ☕\")\n",
        "print(\"=\"*150)"
      ],
      "metadata": {
        "colab": {
          "base_uri": "https://localhost:8080/"
        },
        "id": "GW29FEaJrJgW",
        "outputId": "c2615487-cbc3-4bf0-fedb-a49ea73a8dba"
      },
      "execution_count": 34,
      "outputs": [
        {
          "output_type": "stream",
          "name": "stdout",
          "text": [
            "======================================================================================================================================================\n",
            "                                                  Librerias Importadas con Exito ☕\n",
            "======================================================================================================================================================\n"
          ]
        }
      ]
    },
    {
      "cell_type": "markdown",
      "source": [
        "# **Credenciales**🎫"
      ],
      "metadata": {
        "id": "34fd580ZcZOp"
      }
    },
    {
      "cell_type": "markdown",
      "source": [
        "**Ojo Actualizar Credenciales para el rol del Proyecto. Segun Data gobernance**👀"
      ],
      "metadata": {
        "id": "2JKeb3x8sTfa"
      }
    },
    {
      "cell_type": "code",
      "source": [
        "aws_access_key_id = userdata.get('AWS_ACCESS_KEY_ID')\n",
        "aws_secret_access_key = userdata.get('AWS_SECRET_ACCESS_KEY')\n",
        "region_name=userdata.get('AWS_REGION')\n",
        "bucket_name=userdata.get('s3_mallflow')\n",
        "git_path= userdata.get('GIT_PATH')\n",
        "s3 = boto3.client('s3')\n",
        "print(\"=\"*150)\n",
        "print(\" \"*50+\"Credenciales Cargadas\")\n",
        "print(\"=\"*150)"
      ],
      "metadata": {
        "colab": {
          "base_uri": "https://localhost:8080/"
        },
        "id": "OK0skB9upScb",
        "outputId": "62c2b819-737e-498a-9619-9b0755e9b661"
      },
      "execution_count": 39,
      "outputs": [
        {
          "output_type": "stream",
          "name": "stdout",
          "text": [
            "======================================================================================================================================================\n",
            "                                                  Credenciales Cargadas\n",
            "======================================================================================================================================================\n"
          ]
        }
      ]
    },
    {
      "cell_type": "markdown",
      "source": [
        "# **Generación de Data Set Sintetico**🤖"
      ],
      "metadata": {
        "id": "o7MOY10u5x64"
      }
    },
    {
      "cell_type": "code",
      "source": [
        "def generar_dataset_churn_wifi(n_muestras=1000, output_file='dataset_churn_mall_plaza.csv'):\n",
        "    \"\"\"Genera un Data Set Sintetico. este data set emula ingesta via api o Bukect. como data waehouse o data lake.\n",
        "    Columnas Generadas:\n",
        "    -customerId: ide unico (con Faker para mayor realismo)\n",
        "    -name:  Nombre ficticio (con Faker para mayor realismo)\n",
        "    -gender: genero (male/Female/Other)\n",
        "    -age: Edad (18 - 80 años)\n",
        "    -visits: Numero de Visitas al cenntro comercial/Wifi en el ultimo mes(1-30)\n",
        "    -avg_session_time: Tiempo promedio por sesion en minutos (5-120)\n",
        "    -complaints: Numero de quejas (0-10)\n",
        "    -location: Area del centro Comercial: e.g. mesanine, Area de Comidas 1, area de comidas 2, cine, otros\n",
        "    -divice_type: ipo de dispositivo (Smartphone/Laptop/Tablet\n",
        "    -churn: Etiqueta de abadono (Yes/No), con probabilidad basada en quejas, visitas bajas y tiempo bajo.\n",
        "\n",
        "    Args:\n",
        "        n_muestras (int): Numero de muestras a generar.\n",
        "        ouput_file (str): ruta/nombre del archivo csv donde se guardara el dataset.\n",
        "    Returns\n",
        "        pd.DataFrame: Dataset generado.\n",
        "\n",
        "    \"\"\"\n",
        "    fake = Faker('es_CL') # Faker configurado para chile\n",
        "    np.random.seed(42)\n",
        "    random.seed(42)\n",
        "\n",
        "    data = {\n",
        "        'customerId': [fake.uuid4() for _ in range(n_muestras)],\n",
        "        'name': [fake.name() for _ in range(n_muestras)],\n",
        "        'gender': np.random.choice(['Male','Female','Other'], n_muestras, p=[0.485,0.51,0.005]),\n",
        "        'age': np.random.randint(18,81,n_muestras),\n",
        "        'visits': np.random.randint(1,31,n_muestras),\n",
        "        'avg_session_time': np.random.uniform(5, 120, n_muestras).round(2),\n",
        "        'complaints': np.random.randint(0,11,n_muestras),\n",
        "        'location': [fake.random_element(elements=['Mall Central', 'Mega Tieda', 'Cinemas', 'Electronica','Mall Comidas 1', 'Mall Comidas 2', 'Gimnasios', 'Arcades']) for _ in range(n_muestras)],\n",
        "        'device_type': np.random.choice(['Smartphone','Laptop', 'Table'], n_muestras, p=[0.85, 0.08, 0.07]),\n",
        "\n",
        "    }\n",
        "    df = pd.DataFrame(data)\n",
        "\n",
        "    # Generar churn: Probabilidad alta si quejas >5, visitas < 5 o tiempo promedio <20\n",
        "    prob_churn = 0.15 + (df['complaints'] / 10) * 0.4 + (1 - df['visits']/30) * 0.3 + (1 - df['avg_session_time']/120)*0.2\n",
        "    prob_churn = np.clip(prob_churn, 0, 1)\n",
        "    df['churn'] = np.where(np.random.rand(n_muestras) < prob_churn, 'Yes', 'No')\n",
        "\n",
        "\n",
        "    #Guardar CSV\n",
        "    df.to_csv(output_file, index=False)\n",
        "    print(f\"Dataset Generado 🧮 y guardado en '{output_file}' con {n_muestras} muestras\")\n",
        "\n",
        "    return df\n",
        "\n"
      ],
      "metadata": {
        "id": "vSGLrTr0sRRh"
      },
      "execution_count": 26,
      "outputs": []
    },
    {
      "cell_type": "code",
      "source": [
        "df = generar_dataset_churn_wifi(n_muestras=100000, output_file='churn_abril_mallplaza.csv' )\n",
        "\n",
        "print(df.head())\n"
      ],
      "metadata": {
        "colab": {
          "base_uri": "https://localhost:8080/"
        },
        "id": "7BxyDQaAs3_J",
        "outputId": "4c1b3f41-91ee-4022-fcef-96c10e2d0eea"
      },
      "execution_count": 27,
      "outputs": [
        {
          "output_type": "stream",
          "name": "stdout",
          "text": [
            "Dataset Generado 🧮 y guardado en 'churn_abril_mallplaza.csv' con 100000 muestras\n",
            "                             customerId                           name  \\\n",
            "0  fdea3467-f965-470a-885f-f9f5d0e3cec7             Simón Cornejo Lara   \n",
            "1  42c8ead5-1211-437d-83db-9c866cc95583           Cristian Silva López   \n",
            "2  51f9aa89-32ab-4fd8-9af5-145684a6787d  Sebastián Juan Cortés Montero   \n",
            "3  ddf803b9-5b97-470e-ac7c-389d7a146c3c     Pablo Mario Valdivia Pérez   \n",
            "4  a45289dd-a37c-4913-b59b-281862d36ee7       Mónica Ana Parra Aravena   \n",
            "\n",
            "   gender  age  visits  avg_session_time  complaints        location  \\\n",
            "0    Male   51       3             32.57           0  Mall Comidas 2   \n",
            "1  Female   25      13             64.52           8     Electronica   \n",
            "2  Female   79      27             84.52           2       Gimnasios   \n",
            "3  Female   32      28             65.70           1      Mega Tieda   \n",
            "4    Male   74      20             27.03           8  Mall Comidas 2   \n",
            "\n",
            "  device_type churn  \n",
            "0  Smartphone   Yes  \n",
            "1  Smartphone   Yes  \n",
            "2  Smartphone   Yes  \n",
            "3      Laptop    No  \n",
            "4  Smartphone   Yes  \n"
          ]
        }
      ]
    },
    {
      "cell_type": "markdown",
      "source": [
        "# **Igesta de Datos en Bucket de AWS** 💾"
      ],
      "metadata": {
        "id": "rHqeyCQ-dDQU"
      }
    },
    {
      "cell_type": "code",
      "source": [
        "# rear los archivos de configuración de AWS\n",
        "# Directorio y Archivo de Credenciales\n",
        "aws_dir = '/root/.aws'\n",
        "os.makedirs(aws_dir, exist_ok=True)\n",
        "with open(os.path.join(aws_dir, 'credentials'), 'w') as f:\n",
        "    f.write(f'[default]\\n')\n",
        "    f.write(f'aws_access_key_id = {aws_access_key_id}\\n')\n",
        "    f.write(f'aws_secret_access_key = {aws_secret_access_key}\\n')\n",
        "# Write 'config'\n",
        "with open(os.path.join(aws_dir, 'config'), 'w') as f:\n",
        "    f.write(f'[default]\\n')\n",
        "    f.write(f'region = {region_name}\\n')\n",
        "print(\"Archivos de cofiguracion de AWs creados Exitosamente ☕\")\n"
      ],
      "metadata": {
        "colab": {
          "base_uri": "https://localhost:8080/"
        },
        "id": "vAFVfm6x7sj5",
        "outputId": "a852cbbf-ff01-413c-974a-70b0643abe92"
      },
      "execution_count": 36,
      "outputs": [
        {
          "output_type": "stream",
          "name": "stdout",
          "text": [
            "Archivos de cofiguracion de AWs creados Exitosamente ☕\n"
          ]
        }
      ]
    },
    {
      "cell_type": "code",
      "source": [
        "def upload_to_s3(local_file,s3_path):\n",
        "    s3.upload_file(local_file, bucket_name, s3_path)\n",
        "    print(f\"Subido {local_file} a s3://{bucket_name}/{s3_path}\")\n",
        "upload_to_s3('churn_abril_mallplaza.csv', 'warehouse-ml/churn_abril_mallplaza/churn_abril_mallplaza.csv')"
      ],
      "metadata": {
        "colab": {
          "base_uri": "https://localhost:8080/"
        },
        "id": "aAqiYh5B_CgO",
        "outputId": "e7490782-cf4b-4430-8b47-d42558eacf0f"
      },
      "execution_count": 37,
      "outputs": [
        {
          "output_type": "stream",
          "name": "stdout",
          "text": [
            "Subido churn_abril_mallplaza.csv a s3://mall-flow/warehouse-ml/churn_abril_mallplaza/churn_abril_mallplaza.csv\n"
          ]
        }
      ]
    },
    {
      "cell_type": "markdown",
      "source": [
        "# ***Verifica la Crreacion de los CSV en el icono de carpeta.costado izquiero de colab***\n",
        "\n",
        "> **Diviertete Explorando este Proyecto**\n",
        "\n",
        "Si te fue de ayuda este proyecto, pasa por mi linkedin y cuentame como te ayudo ☕\n"
      ],
      "metadata": {
        "id": "qo5dqf0cdb7t"
      }
    },
    {
      "cell_type": "code",
      "source": [],
      "metadata": {
        "id": "UOiisigndiAB"
      },
      "execution_count": null,
      "outputs": []
    }
  ]
}