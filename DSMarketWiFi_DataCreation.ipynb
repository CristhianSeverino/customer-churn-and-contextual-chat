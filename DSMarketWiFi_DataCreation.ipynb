{
  "nbformat": 4,
  "nbformat_minor": 0,
  "metadata": {
    "colab": {
      "provenance": [],
      "collapsed_sections": [
        "mZNS_yYFp8VJ",
        "34fd580ZcZOp",
        "o7MOY10u5x64",
        "rHqeyCQ-dDQU"
      ],
      "authorship_tag": "ABX9TyPUunBFBn755JmRD24/3Hhx",
      "include_colab_link": true
    },
    "kernelspec": {
      "name": "python3",
      "display_name": "Python 3"
    },
    "language_info": {
      "name": "python"
    }
  },
  "cells": [
    {
      "cell_type": "markdown",
      "metadata": {
        "id": "view-in-github",
        "colab_type": "text"
      },
      "source": [
        "<a href=\"https://colab.research.google.com/github/CristhianSeverino/customer-churn-and-contextual-chat/blob/staging/DSMarketWiFi_DataCreation.ipynb\" target=\"_parent\"><img src=\"https://colab.research.google.com/assets/colab-badge.svg\" alt=\"Open In Colab\"/></a>"
      ]
    },
    {
      "cell_type": "markdown",
      "source": [
        "# **Customer Churn and Contextual Chat C4**\n",
        "\n",
        "> Este **Notebook** es una creación de: **Cristhian Calle Severino**☕.\n",
        "\n",
        "---\n",
        "\n",
        "* **GitHub**: https://github.com/CristhianSeverino\n",
        "* **LinkedIn**: https://www.linkedin.com/in/cristhianandrescalleseverino/\n",
        "\n",
        "---\n",
        "\n",
        "Este proyecto **emula un Data Product de Machine Learning (ML) con despliegue en AWS**. Se inspira en la arquitectura **Arana**.\n",
        "\n",
        "### **Incluye:**\n",
        "\n",
        "* **Creación de Datos Sintéticos**: Estos datos simulan usuarios de **MallPlaza**, un nombre genérico para un supuesto ficticio, dado que grandes centros comerciales homónimos existen en ciudades de América (como Santiago de Chile y Manizales, donde resido). Esta creación se basa en un supuesto de **Ingeniería y Arquitectura de Datos** que se detalla en el **Road Map**.\n",
        "\n",
        "---\n",
        "\n",
        "## **Módulos del Proyecto**📚\n",
        "\n",
        "El proyecto está estructurado en los siguientes **Módulos**:\n",
        "\n",
        "> * **Módulo 1 - Creación de Datos Sintéticos**: Emula un proceso **ELT** (Extracción, Carga y Transformación) de ingesta, carga y posterior transformación de datos. El resultado es un *dataset* limpio, listo para el entrenamiento de modelos de ML.\n",
        "> * **Módulo 2 - EDA (*Exploratory Data Analysis*)**: Análisis de datos exploratorio para la identificación de *insights* previos al ML. Incluye la búsqueda de características de enriquecimiento y el desarrollo de **Feature Engineering**.\n",
        "> * **Módulo 3 - Entrenamiento y Evaluación del Algoritmo**: Desarrollo del modelo, métricas de ajuste, evaluación de precisión y **Fine Tuning**.\n",
        "> * **Módulo 4 - Despliegue en AWS**: Implementación y prueba del despliegue en la nube.\n",
        "\n",
        "---\n",
        "\n",
        "## **Prerrequisitos y Recomendaciones**🧮\n",
        "\n",
        "**Nota**: Para este proyecto se emplea **AWS como *cloud platform***.\n",
        "\n",
        "Es **indispensable** poseer conocimientos en las siguientes tecnologías para comprender a cabalidad los aspectos técnicos:\n",
        "\n",
        "* **Lenguajes y Bases de Datos**: Python, SQL, VectorDB, Terraform\n",
        "* **Big Data y ML**: PySpark, Keras, Scikit-learn, PyTorch.\n",
        "* **Cloud y Herramientas MLOps**: AWS, Git.\n",
        "* **IA y Desarrollo de Aplicaciones**: LangChain, RAG, Streamlit, Gradio, API.\n",
        "\n",
        "Para una comprensión general del proyecto, **recomiendo encarecidamente la lectura del Road Map** y una revisión general de la documentación del código. 🦾\n",
        "\n",
        "> ¡Que disfrutes explorando este proyecto! Exitosa semana. 🐱‍🏍"
      ],
      "metadata": {
        "id": "ueJCmgvOW25a"
      }
    },
    {
      "cell_type": "markdown",
      "source": [
        "# **Instalacción E Importación de Librerias // Istall & Import Librarys**📚"
      ],
      "metadata": {
        "id": "mZNS_yYFp8VJ"
      }
    },
    {
      "cell_type": "code",
      "source": [
        "!pip install boto3\n",
        "print(\"=\"*150)\n",
        "print(\" \"*50+\"Boto install OK🐱‍🏍\")\n",
        "print(\"=\"*150)"
      ],
      "metadata": {
        "colab": {
          "base_uri": "https://localhost:8080/"
        },
        "id": "Oa063bsSYucp",
        "outputId": "7b5f3aea-41af-404a-85ce-98bb700a8838"
      },
      "execution_count": 16,
      "outputs": [
        {
          "output_type": "stream",
          "name": "stdout",
          "text": [
            "Requirement already satisfied: boto3 in /usr/local/lib/python3.12/dist-packages (1.40.40)\n",
            "Requirement already satisfied: botocore<1.41.0,>=1.40.40 in /usr/local/lib/python3.12/dist-packages (from boto3) (1.40.40)\n",
            "Requirement already satisfied: jmespath<2.0.0,>=0.7.1 in /usr/local/lib/python3.12/dist-packages (from boto3) (1.0.1)\n",
            "Requirement already satisfied: s3transfer<0.15.0,>=0.14.0 in /usr/local/lib/python3.12/dist-packages (from boto3) (0.14.0)\n",
            "Requirement already satisfied: python-dateutil<3.0.0,>=2.1 in /usr/local/lib/python3.12/dist-packages (from botocore<1.41.0,>=1.40.40->boto3) (2.9.0.post0)\n",
            "Requirement already satisfied: urllib3!=2.2.0,<3,>=1.25.4 in /usr/local/lib/python3.12/dist-packages (from botocore<1.41.0,>=1.40.40->boto3) (2.5.0)\n",
            "Requirement already satisfied: six>=1.5 in /usr/local/lib/python3.12/dist-packages (from python-dateutil<3.0.0,>=2.1->botocore<1.41.0,>=1.40.40->boto3) (1.17.0)\n",
            "======================================================================================================================================================\n",
            "                                                  Boto install OK🐱‍🏍\n",
            "======================================================================================================================================================\n"
          ]
        }
      ]
    },
    {
      "cell_type": "code",
      "source": [
        "\n",
        "!pip install awscli\n",
        "print(\"=\"*150)\n",
        "print(\" \"*50+\"AWS Cli Install OK\")\n",
        "print(\"=\"*150)"
      ],
      "metadata": {
        "colab": {
          "base_uri": "https://localhost:8080/"
        },
        "id": "v2vYfB9cr2n2",
        "outputId": "8d649b96-0030-4f5f-a85a-7960bdb333e6"
      },
      "execution_count": 17,
      "outputs": [
        {
          "output_type": "stream",
          "name": "stdout",
          "text": [
            "Requirement already satisfied: awscli in /usr/local/lib/python3.12/dist-packages (1.42.40)\n",
            "Requirement already satisfied: botocore==1.40.40 in /usr/local/lib/python3.12/dist-packages (from awscli) (1.40.40)\n",
            "Requirement already satisfied: docutils<=0.19,>=0.18.1 in /usr/local/lib/python3.12/dist-packages (from awscli) (0.19)\n",
            "Requirement already satisfied: s3transfer<0.15.0,>=0.14.0 in /usr/local/lib/python3.12/dist-packages (from awscli) (0.14.0)\n",
            "Requirement already satisfied: PyYAML<6.1,>=3.10 in /usr/local/lib/python3.12/dist-packages (from awscli) (6.0.2)\n",
            "Requirement already satisfied: colorama<0.4.7,>=0.2.5 in /usr/local/lib/python3.12/dist-packages (from awscli) (0.4.6)\n",
            "Requirement already satisfied: rsa<4.8,>=3.1.2 in /usr/local/lib/python3.12/dist-packages (from awscli) (4.7.2)\n",
            "Requirement already satisfied: jmespath<2.0.0,>=0.7.1 in /usr/local/lib/python3.12/dist-packages (from botocore==1.40.40->awscli) (1.0.1)\n",
            "Requirement already satisfied: python-dateutil<3.0.0,>=2.1 in /usr/local/lib/python3.12/dist-packages (from botocore==1.40.40->awscli) (2.9.0.post0)\n",
            "Requirement already satisfied: urllib3!=2.2.0,<3,>=1.25.4 in /usr/local/lib/python3.12/dist-packages (from botocore==1.40.40->awscli) (2.5.0)\n",
            "Requirement already satisfied: pyasn1>=0.1.3 in /usr/local/lib/python3.12/dist-packages (from rsa<4.8,>=3.1.2->awscli) (0.6.1)\n",
            "Requirement already satisfied: six>=1.5 in /usr/local/lib/python3.12/dist-packages (from python-dateutil<3.0.0,>=2.1->botocore==1.40.40->awscli) (1.17.0)\n",
            "======================================================================================================================================================\n",
            "                                                  AWS Cli Install OK\n",
            "======================================================================================================================================================\n"
          ]
        }
      ]
    },
    {
      "cell_type": "code",
      "execution_count": 18,
      "metadata": {
        "colab": {
          "base_uri": "https://localhost:8080/"
        },
        "id": "TGAFVoZSJzN4",
        "outputId": "e22a0394-ce9b-444c-84c4-ffe8f15cef90"
      },
      "outputs": [
        {
          "output_type": "stream",
          "name": "stdout",
          "text": [
            "Requirement already satisfied: faker in /usr/local/lib/python3.12/dist-packages (37.8.0)\n",
            "Requirement already satisfied: tzdata in /usr/local/lib/python3.12/dist-packages (from faker) (2025.2)\n",
            "======================================================================================================================================================\n",
            "                                                  Librerias instaladas\n",
            "======================================================================================================================================================\n"
          ]
        }
      ],
      "source": [
        "!pip install faker\n",
        "print(\"=\"*150)\n",
        "print(\" \"*50+\"Librerias instaladas\")\n",
        "print(\"=\"*150)\n"
      ]
    },
    {
      "cell_type": "code",
      "source": [
        "# ===================================================   Dependencys or Librarys   ==========================================\n",
        "# Enviroment Variables\n",
        "import os\n",
        "from google.colab import userdata\n",
        "\n",
        "#Data manipulation and generation\n",
        "from faker import Faker\n",
        "import pandas as pd\n",
        "from datetime import datetime\n",
        "from datetime import datetime, timedelta\n",
        "import random\n",
        "import numpy as np\n",
        "# AWS\n",
        "import boto3\n",
        "\n",
        "print(\"=\"*150)\n",
        "print(\" \"*50+\"Librerias Importadas con Exito ☕\")\n",
        "print(\"=\"*150)"
      ],
      "metadata": {
        "colab": {
          "base_uri": "https://localhost:8080/"
        },
        "id": "GW29FEaJrJgW",
        "outputId": "36237a03-1068-4a14-96ca-e20999b5b1f7"
      },
      "execution_count": 19,
      "outputs": [
        {
          "output_type": "stream",
          "name": "stdout",
          "text": [
            "======================================================================================================================================================\n",
            "                                                  Librerias Importadas con Exito ☕\n",
            "======================================================================================================================================================\n"
          ]
        }
      ]
    },
    {
      "cell_type": "markdown",
      "source": [
        "# **Credenciales // Credentials**🎫"
      ],
      "metadata": {
        "id": "34fd580ZcZOp"
      }
    },
    {
      "cell_type": "markdown",
      "source": [
        "**Ojo Actualizar Credenciales para el rol del Proyecto. Segun Data gobernance**👀"
      ],
      "metadata": {
        "id": "2JKeb3x8sTfa"
      }
    },
    {
      "cell_type": "code",
      "source": [
        "# ==========================================   Variables de entoro o Credentials ==============================================================\n",
        "# AWS\n",
        "aws_access_key_id = userdata.get('AWS_ACCESS_KEY_ID')\n",
        "aws_secret_access_key = userdata.get('AWS_SECRET_ACCESS_KEY')\n",
        "region_name=userdata.get('AWS_REGION')\n",
        "bucket_name=userdata.get('s3_mallflow')\n",
        "s3 = boto3.client('s3',\n",
        "                  aws_access_key_id=aws_access_key_id,\n",
        "                  aws_secret_access_key=aws_secret_access_key,\n",
        "                  region_name=region_name)\n",
        "# Git Path\n",
        "git_path= userdata.get('GIT_PATH')\n",
        "user_git=userdata.get('USER_GIT')\n",
        "email_git=userdata.get('EMAIL_GIT')\n",
        "print(\"=\"*150)\n",
        "print(\" \"*50+\"Credenciales Cargadas\")\n",
        "print(\"=\"*150)"
      ],
      "metadata": {
        "colab": {
          "base_uri": "https://localhost:8080/"
        },
        "id": "OK0skB9upScb",
        "outputId": "294799ee-e75c-4661-cb5f-00f47e9a43d6"
      },
      "execution_count": 20,
      "outputs": [
        {
          "output_type": "stream",
          "name": "stdout",
          "text": [
            "======================================================================================================================================================\n",
            "                                                  Credenciales Cargadas\n",
            "======================================================================================================================================================\n"
          ]
        }
      ]
    },
    {
      "cell_type": "markdown",
      "source": [
        "# **Generación de Data Set Sintetico // Generate Syntetic Data Set**🤖"
      ],
      "metadata": {
        "id": "o7MOY10u5x64"
      }
    },
    {
      "cell_type": "code",
      "source": [
        "\n",
        "\n",
        "def generar_dataset_churn_wifi(n_muestras=1000, output_file='dataset_churn_mall_plaza.csv'):\n",
        "    fake = Faker('es_CL')\n",
        "    np.random.seed(42)\n",
        "    random.seed(42)\n",
        "\n",
        "    data = {\n",
        "        'customerId': [fake.uuid4() for _ in range(n_muestras)],\n",
        "        'name': [fake.name() for _ in range(n_muestras)],\n",
        "        'gender': np.random.choice(['Male', 'Female', 'Other'], n_muestras, p=[0.485, 0.51, 0.005]),\n",
        "        'age': np.random.randint(18, 81, n_muestras),\n",
        "        'visits': np.random.randint(1, 31, n_muestras),\n",
        "        'avg_session_time': np.random.uniform(5, 120, n_muestras).round(2),\n",
        "        'complaints': np.random.randint(0, 11, n_muestras),\n",
        "        'location': [fake.random_element(elements=['Mall Central', 'Mega Tienda', 'Cinemas', 'Electronica', 'Mall Comidas 1', 'Mall Comidas 2', 'Gimnasios', 'Arcades']) for _ in range(n_muestras)],\n",
        "        'device_type': np.random.choice(['Smartphone', 'Laptop', 'Tablet'], n_muestras, p=[0.85, 0.08, 0.07]),\n",
        "    }\n",
        "    df = pd.DataFrame(data)\n",
        "\n",
        "\n",
        "    df['total_session_time'] = df['visits'] * df['avg_session_time'] + np.random.normal(0, 10, n_muestras)\n",
        "    df['complaints_per_visit'] = np.where(df['visits'] > 0, df['complaints'] / df['visits'], 0)\n",
        "    df['log_visits'] = np.log1p(df['visits'])\n",
        "    bins = [18, 30, 50, 81]; labels = ['Young', 'Adult', 'Senior']\n",
        "    df['age_group'] = pd.cut(df['age'], bins=bins, labels=labels, right=False)\n",
        "    df['high_complaints_flag'] = (df['complaints'] > 5).astype(int)\n",
        "    max_visits = 30; max_session = 120\n",
        "    df['engagement_score'] = (df['visits']/max_visits) * (df['avg_session_time']/max_session) * (1 - df['complaints_per_visit'].clip(0,1))\n",
        "    df['gender_age_interaction'] = df['age'] * (df['gender'] == 'Female').astype(int)\n",
        "    today = datetime.now()\n",
        "    df['last_visit_date'] = [today - timedelta(days=np.random.randint(0,31)) for _ in range(n_muestras)]\n",
        "    df['recency_days'] = (today - df['last_visit_date']).dt.days\n",
        "    df['tenure_months'] = np.random.randint(6, 61, n_muestras)\n",
        "    df['data_usage_total'] = df['total_session_time'] * np.random.uniform(0.5, 2.0, n_muestras)\n",
        "\n",
        "    # Genera churn basado en features\n",
        "    logit = - (df['visits'] / 30) * 2 - (df['avg_session_time'] / 120) * 2 + (df['complaints'] / 10) * 4 + np.random.normal(0, 0.5, n_muestras)\n",
        "    p_churn = 1 / (1 + np.exp(-logit))\n",
        "    df['churn'] = np.where(np.random.rand(n_muestras) < p_churn, 'Yes', 'No')\n",
        "\n",
        "    # Opcional: One-hot encoding para emular dataset listo para ML\n",
        "    df = pd.get_dummies(df, columns=['gender', 'location', 'device_type', 'age_group'])\n",
        "\n",
        "    df.to_csv(output_file, index=False)\n",
        "    print(f\"Dataset Generado 🧮 y guardado en '{output_file}' con {n_muestras} muestras\")\n",
        "    return df"
      ],
      "metadata": {
        "id": "vSGLrTr0sRRh"
      },
      "execution_count": 21,
      "outputs": []
    },
    {
      "cell_type": "code",
      "source": [
        "df = generar_dataset_churn_wifi(n_muestras=100000, output_file='churn_abril_mallplaza.csv' )\n",
        "\n",
        "print(df.head())\n"
      ],
      "metadata": {
        "colab": {
          "base_uri": "https://localhost:8080/"
        },
        "id": "7BxyDQaAs3_J",
        "outputId": "aaec0a8a-128f-44c6-e2de-32e5073dadd8"
      },
      "execution_count": 22,
      "outputs": [
        {
          "output_type": "stream",
          "name": "stdout",
          "text": [
            "Dataset Generado 🧮 y guardado en 'churn_abril_mallplaza.csv' con 100000 muestras\n",
            "                             customerId                                 name  \\\n",
            "0  93035a22-856f-40dc-80a2-145487d6025c        Josefa Myriam Acevedo Acevedo   \n",
            "1  048dbbf1-280b-4ee5-a7cc-92c6d2978d55            Doris Cynthia Leal Candia   \n",
            "2  ba090057-e9a7-4442-8e31-4d569c7c56cc               Valentina Guerra Prado   \n",
            "3  6d168164-da87-49df-add0-35121f26cb54  Noemí Sabrina Quintanilla Fernández   \n",
            "4  5444b8d8-5a4d-4619-8219-d4b2a28e7198         Alejandra Josefina Lara Cruz   \n",
            "\n",
            "   age  visits  avg_session_time  complaints  total_session_time  \\\n",
            "0   51       3             32.57           0           97.120068   \n",
            "1   25      13             64.52           8          826.446774   \n",
            "2   79      27             84.52           2         2287.022366   \n",
            "3   32      28             65.70           1         1828.755038   \n",
            "4   74      20             27.03           8          543.183295   \n",
            "\n",
            "   complaints_per_visit  log_visits  high_complaints_flag  ...  \\\n",
            "0              0.000000    1.386294                     0  ...   \n",
            "1              0.615385    2.639057                     1  ...   \n",
            "2              0.074074    3.332205                     0  ...   \n",
            "3              0.035714    3.367296                     0  ...   \n",
            "4              0.400000    3.044522                     1  ...   \n",
            "\n",
            "   location_Mall Central  location_Mall Comidas 1 location_Mall Comidas 2  \\\n",
            "0                  False                    False                   False   \n",
            "1                  False                    False                   False   \n",
            "2                   True                    False                   False   \n",
            "3                  False                    False                   False   \n",
            "4                  False                    False                   False   \n",
            "\n",
            "   location_Mega Tienda  device_type_Laptop  device_type_Smartphone  \\\n",
            "0                  True               False                    True   \n",
            "1                 False               False                    True   \n",
            "2                 False               False                    True   \n",
            "3                 False                True                   False   \n",
            "4                 False               False                    True   \n",
            "\n",
            "  device_type_Tablet  age_group_Young  age_group_Adult  age_group_Senior  \n",
            "0              False            False            False              True  \n",
            "1              False             True            False             False  \n",
            "2              False            False            False              True  \n",
            "3              False            False             True             False  \n",
            "4              False            False            False              True  \n",
            "\n",
            "[5 rows x 34 columns]\n"
          ]
        }
      ]
    },
    {
      "cell_type": "markdown",
      "source": [
        "# **Carga de Datos y envio para Downs Stakeholders Bucket de AWS // Load Data for Delivery** 💾"
      ],
      "metadata": {
        "id": "rHqeyCQ-dDQU"
      }
    },
    {
      "cell_type": "code",
      "source": [
        "# rear los archivos de configuración de AWS\n",
        "# Directorio y Archivo de Credenciales\n",
        "aws_dir = '/root/.aws'\n",
        "os.makedirs(aws_dir, exist_ok=True)\n",
        "with open(os.path.join(aws_dir, 'credentials'), 'w') as f:\n",
        "    f.write(f'[default]\\n')\n",
        "    f.write(f'aws_access_key_id = {aws_access_key_id}\\n')\n",
        "    f.write(f'aws_secret_access_key = {aws_secret_access_key}\\n')\n",
        "# Write 'config'\n",
        "with open(os.path.join(aws_dir, 'config'), 'w') as f:\n",
        "    f.write(f'[default]\\n')\n",
        "    f.write(f'region = {region_name}\\n')\n",
        "print(\"Archivos de cofiguracion de AWs creados Exitosamente ☕\")\n"
      ],
      "metadata": {
        "colab": {
          "base_uri": "https://localhost:8080/"
        },
        "id": "vAFVfm6x7sj5",
        "outputId": "a76ea164-d72a-4fda-e62a-22f8939549ec"
      },
      "execution_count": 23,
      "outputs": [
        {
          "output_type": "stream",
          "name": "stdout",
          "text": [
            "Archivos de cofiguracion de AWs creados Exitosamente ☕\n"
          ]
        }
      ]
    },
    {
      "cell_type": "code",
      "source": [
        "def upload_to_s3(local_file,s3_path):\n",
        "    s3.upload_file(local_file, bucket_name, s3_path)\n",
        "    print(f\"Subido {local_file} a s3://{bucket_name}/{s3_path}\")\n",
        "upload_to_s3('/content/customer-churn-and-contextual-chat/churn_abril_mallplaza.csv', 'warehouse-ml/churn_abril_mallplaza/churn_abril_mallplaza.csv')"
      ],
      "metadata": {
        "colab": {
          "base_uri": "https://localhost:8080/"
        },
        "id": "aAqiYh5B_CgO",
        "outputId": "41eae125-39e5-4bcb-f128-93db1e8a25cb"
      },
      "execution_count": 25,
      "outputs": [
        {
          "output_type": "stream",
          "name": "stdout",
          "text": [
            "Subido /content/customer-churn-and-contextual-chat/churn_abril_mallplaza.csv a s3://mall-flow/warehouse-ml/churn_abril_mallplaza/churn_abril_mallplaza.csv\n"
          ]
        }
      ]
    },
    {
      "cell_type": "markdown",
      "source": [
        "# ***Verifica la Crreacion de los CSV en el icono de carpeta.costado izquiero de colab***\n",
        "\n",
        "> **Diviertete Explorando este Proyecto**🐱‍👓\n",
        "\n",
        "🧭Si te fue de ayuda este proyecto, pasa por mi linkedin y cuentame como te ayudo ☕\n"
      ],
      "metadata": {
        "id": "qo5dqf0cdb7t"
      }
    },
    {
      "cell_type": "code",
      "source": [],
      "metadata": {
        "id": "UVpTOj-JfbCL"
      },
      "execution_count": null,
      "outputs": []
    }
  ]
}